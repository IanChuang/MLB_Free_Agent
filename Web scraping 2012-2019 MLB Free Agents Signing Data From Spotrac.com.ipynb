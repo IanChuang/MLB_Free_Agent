{
 "cells": [
  {
   "cell_type": "code",
   "execution_count": 1,
   "metadata": {},
   "outputs": [],
   "source": [
    "import requests\n",
    "import bs4\n",
    "from bs4 import BeautifulSoup\n",
    "import pandas as pd"
   ]
  },
  {
   "cell_type": "code",
   "execution_count": 2,
   "metadata": {},
   "outputs": [],
   "source": [
    "def free_agent(year, name):\n",
    "    file = requests.get(\"https://www.spotrac.com/mlb/free-agents/{}/signed/\".format(year))\n",
    "    html = BeautifulSoup(file.text, \"html.parser\")\n",
    "    table = html.findAll(text = \"{}\".format(name))[0].parent.parent.parent.parent   \n",
    "    length = len(table.select(\"tr\"))  # Number of free agents that year\n",
    "    player_name = [\"name\"] * length\n",
    "    position = [\"position\"] * length\n",
    "    age = [\"age\"] * length\n",
    "    old_team = [\"from\"] * length\n",
    "    new_team = [\"to\"] * length\n",
    "    years = [\"years\"] * length\n",
    "    dollars = [\"dollars\"] * length\n",
    "    average_salary = [\"average_salary\"] * length\n",
    "    FA_year = [\"{}\".format(year)] * length    # the free agent year \n",
    "    for i in range(0,length):\n",
    "        player_name[i] = table.select(\"tr\")[i].select(\"td\")[0].select(\"a\")[0].text\n",
    "        position[i] = table.select(\"tr\")[i].select(\"td\")[1].text\n",
    "        age[i] = table.select(\"tr\")[i].select(\"td\")[2].text\n",
    "        old_team[i] = table.select(\"tr\")[i].select(\"td\")[3].text\n",
    "        new_team[i] = table.select(\"tr\")[i].select(\"td\")[4].text\n",
    "        years[i] = table.select(\"tr\")[i].select(\"td\")[5].text\n",
    "        dollars[i] = table.select(\"tr\")[i].select(\"td\")[6].text\n",
    "        average_salary[i] = table.select(\"tr\")[i].select(\"td\")[7].text\n",
    "    df = pd.DataFrame({\"Name\": player_name, \"Position\": position, \"Age\": age, \"From\": old_team, \"To\": new_team, \"Years\": years, \"Dollars\": dollars, \"Average_Salary\": average_salary, \"FA_year\": FA_year})\n",
    "    df.to_csv(r'free_agent_{}.csv'.format(year), index=False)  # Export data frame as CSV files\n",
    "    return (df)"
   ]
  },
  {
   "cell_type": "code",
   "execution_count": 3,
   "metadata": {},
   "outputs": [],
   "source": [
    "free_agent(2019, \"Bryce Harper\")\n",
    "free_agent(2018, \"Eric Hosmer\")\n",
    "free_agent(2017, \"Yoenis Cespedes\")\n",
    "free_agent(2016, \"David Price\")\n",
    "free_agent(2015, \"Max Scherzer\")\n",
    "free_agent(2014, \"Robinson Cano\")\n",
    "free_agent(2013, \"Zack Greinke\")\n",
    "free_agent(2012, \"Albert Pujols\"); "
   ]
  }
 ],
 "metadata": {
  "kernelspec": {
   "display_name": "Python 3",
   "language": "python",
   "name": "python3"
  },
  "language_info": {
   "codemirror_mode": {
    "name": "ipython",
    "version": 3
   },
   "file_extension": ".py",
   "mimetype": "text/x-python",
   "name": "python",
   "nbconvert_exporter": "python",
   "pygments_lexer": "ipython3",
   "version": "3.6.6"
  }
 },
 "nbformat": 4,
 "nbformat_minor": 2
}
