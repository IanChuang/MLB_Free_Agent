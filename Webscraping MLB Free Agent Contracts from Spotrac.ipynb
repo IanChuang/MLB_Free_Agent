{
 "cells": [
  {
   "cell_type": "code",
   "execution_count": 1,
   "metadata": {},
   "outputs": [],
   "source": [
    "# Import modules \n",
    "import requests\n",
    "import bs4\n",
    "from bs4 import BeautifulSoup\n",
    "import pandas as pd\n",
    "import numpy as np"
   ]
  },
  {
   "cell_type": "markdown",
   "metadata": {},
   "source": [
    "## Webscrape the list of MLB free agents in 2020"
   ]
  },
  {
   "cell_type": "code",
   "execution_count": 2,
   "metadata": {},
   "outputs": [],
   "source": [
    "# Request Data from spotrac.com\n",
    "file_MLB_FA_2020 = requests.get(\"https://www.spotrac.com/mlb/free-agents/\")"
   ]
  },
  {
   "cell_type": "code",
   "execution_count": 3,
   "metadata": {},
   "outputs": [],
   "source": [
    "# Parsing HTML\n",
    "html_MLB_FA_2020 = BeautifulSoup(file_MLB_FA_2020.text, \"html.parser\")"
   ]
  },
  {
   "cell_type": "code",
   "execution_count": 4,
   "metadata": {},
   "outputs": [
    {
     "data": {
      "text/plain": [
       "'Gerrit Cole'"
      ]
     },
     "execution_count": 4,
     "metadata": {},
     "output_type": "execute_result"
    }
   ],
   "source": [
    "html_MLB_FA_2020.findAll(text = \"Gerrit Cole\")[0]"
   ]
  },
  {
   "cell_type": "code",
   "execution_count": 5,
   "metadata": {},
   "outputs": [],
   "source": [
    "table_2020 = html_MLB_FA_2020.findAll(text = \"Gerrit Cole\")[0].parent.parent.parent.parent"
   ]
  },
  {
   "cell_type": "code",
   "execution_count": 6,
   "metadata": {},
   "outputs": [
    {
     "data": {
      "text/plain": [
       "'ColeGerrit Cole '"
      ]
     },
     "execution_count": 6,
     "metadata": {},
     "output_type": "execute_result"
    }
   ],
   "source": [
    "# Player Name\n",
    "table_2020.select(\"tr\")[0].select(\"td\")[0].get_text()"
   ]
  },
  {
   "cell_type": "code",
   "execution_count": 7,
   "metadata": {},
   "outputs": [
    {
     "data": {
      "text/plain": [
       "'https://www.spotrac.com/redirect/player/13294/'"
      ]
     },
     "execution_count": 7,
     "metadata": {},
     "output_type": "execute_result"
    }
   ],
   "source": [
    "# Player stat URL\n",
    "table_2020.select(\"tr\")[0].select(\"td\")[0].select(\"a\")[0][\"href\"]"
   ]
  },
  {
   "cell_type": "code",
   "execution_count": 8,
   "metadata": {},
   "outputs": [
    {
     "data": {
      "text/plain": [
       "'Gerrit Cole'"
      ]
     },
     "execution_count": 8,
     "metadata": {},
     "output_type": "execute_result"
    }
   ],
   "source": [
    "# Player Name\n",
    "table_2020.select(\"tr\")[0].select(\"td\")[0].select(\"a\")[0].get_text()"
   ]
  },
  {
   "cell_type": "code",
   "execution_count": 9,
   "metadata": {},
   "outputs": [
    {
     "data": {
      "text/plain": [
       "'SP'"
      ]
     },
     "execution_count": 9,
     "metadata": {},
     "output_type": "execute_result"
    }
   ],
   "source": [
    "# Position\n",
    "table_2020.select(\"tr\")[0].select(\"td\")[1].get_text()"
   ]
  },
  {
   "cell_type": "code",
   "execution_count": 10,
   "metadata": {},
   "outputs": [
    {
     "data": {
      "text/plain": [
       "'29'"
      ]
     },
     "execution_count": 10,
     "metadata": {},
     "output_type": "execute_result"
    }
   ],
   "source": [
    "# Age\n",
    "table_2020.select(\"tr\")[0].select(\"td\")[2].get_text()"
   ]
  },
  {
   "cell_type": "code",
   "execution_count": 11,
   "metadata": {},
   "outputs": [
    {
     "data": {
      "text/plain": [
       "'HOU'"
      ]
     },
     "execution_count": 11,
     "metadata": {},
     "output_type": "execute_result"
    }
   ],
   "source": [
    "# From\n",
    "table_2020.select(\"tr\")[0].select(\"td\")[3].get_text()"
   ]
  },
  {
   "cell_type": "code",
   "execution_count": 12,
   "metadata": {},
   "outputs": [
    {
     "data": {
      "text/plain": [
       "'NYY'"
      ]
     },
     "execution_count": 12,
     "metadata": {},
     "output_type": "execute_result"
    }
   ],
   "source": [
    "# To\n",
    "table_2020.select(\"tr\")[0].select(\"td\")[4].get_text()"
   ]
  },
  {
   "cell_type": "code",
   "execution_count": 13,
   "metadata": {},
   "outputs": [
    {
     "data": {
      "text/plain": [
       "'9'"
      ]
     },
     "execution_count": 13,
     "metadata": {},
     "output_type": "execute_result"
    }
   ],
   "source": [
    "# Contract Length\n",
    "table_2020.select(\"tr\")[0].select(\"td\")[5].get_text()"
   ]
  },
  {
   "cell_type": "code",
   "execution_count": 14,
   "metadata": {},
   "outputs": [
    {
     "data": {
      "text/plain": [
       "'$324,000,000'"
      ]
     },
     "execution_count": 14,
     "metadata": {},
     "output_type": "execute_result"
    }
   ],
   "source": [
    "# Contract Total\n",
    "table_2020.select(\"tr\")[0].select(\"td\")[6].get_text()"
   ]
  },
  {
   "cell_type": "code",
   "execution_count": 15,
   "metadata": {},
   "outputs": [
    {
     "data": {
      "text/plain": [
       "'6.91'"
      ]
     },
     "execution_count": 15,
     "metadata": {},
     "output_type": "execute_result"
    }
   ],
   "source": [
    "# Previous Year WAR\n",
    "table_2020.select(\"tr\")[0].select(\"td\")[9].get_text()"
   ]
  },
  {
   "cell_type": "code",
   "execution_count": 16,
   "metadata": {},
   "outputs": [
    {
     "data": {
      "text/plain": [
       "'Anthony Rendon'"
      ]
     },
     "execution_count": 16,
     "metadata": {},
     "output_type": "execute_result"
    }
   ],
   "source": [
    "# Second player\n",
    "table_2020.select(\"tr\")[1].select(\"td\")[0].select(\"a\")[0].get_text()"
   ]
  },
  {
   "cell_type": "code",
   "execution_count": 17,
   "metadata": {},
   "outputs": [
    {
     "data": {
      "text/plain": [
       "'$563,500'"
      ]
     },
     "execution_count": 17,
     "metadata": {},
     "output_type": "execute_result"
    }
   ],
   "source": [
    "# Last row (Wei-Yin Chen!!!)\n",
    "table_2020.select(\"tr\")[145].select(\"td\")[6].get_text()"
   ]
  },
  {
   "cell_type": "code",
   "execution_count": 18,
   "metadata": {},
   "outputs": [],
   "source": [
    "# Scrape different statistics into different lists\n",
    "Name = list()\n",
    "Position = list()\n",
    "Age = list()\n",
    "From = list()\n",
    "To = list()\n",
    "Length = list()\n",
    "Total = list()\n",
    "Avg = list()\n",
    "Previous_WAR = list()\n",
    "url = list()\n",
    "for i in range(146):\n",
    "    Name.append(table_2020.select(\"tr\")[i].select(\"td\")[0].select(\"a\")[0].get_text())\n",
    "    Position.append(table_2020.select(\"tr\")[i].select(\"td\")[1].get_text())\n",
    "    Age.append(table_2020.select(\"tr\")[i].select(\"td\")[2].get_text())\n",
    "    From.append(table_2020.select(\"tr\")[i].select(\"td\")[3].get_text())\n",
    "    To.append(table_2020.select(\"tr\")[i].select(\"td\")[4].get_text())\n",
    "    Length.append(table_2020.select(\"tr\")[i].select(\"td\")[5].get_text())\n",
    "    Total.append(table_2020.select(\"tr\")[i].select(\"td\")[6].get_text())\n",
    "    Avg.append(table_2020.select(\"tr\")[i].select(\"td\")[7].get_text())\n",
    "    Previous_WAR.append(table_2020.select(\"tr\")[i].select(\"td\")[9].get_text())\n",
    "    url.append(table_2020.select(\"tr\")[i].select(\"td\")[0].select(\"a\")[0][\"href\"])"
   ]
  },
  {
   "cell_type": "code",
   "execution_count": 19,
   "metadata": {},
   "outputs": [],
   "source": [
    "# Build data frame for the lists of MLB free agents in 2020\n",
    "FA_2020 = {\"Name\":Name, \"Position\":Position, \"Age\":Age, \"From\":From, \"To\":To, \"Years\":Length, \"Dollars\":Total, \"Average_Salary\": Avg, \"FA_year\": 2020}\n",
    "df_2020 = pd.DataFrame(FA_2020)"
   ]
  },
  {
   "cell_type": "code",
   "execution_count": 20,
   "metadata": {},
   "outputs": [],
   "source": [
    "# Output data frame \n",
    "df_2020.to_csv(\"free_agent_2020.csv\", index = False)"
   ]
  }
 ],
 "metadata": {
  "kernelspec": {
   "display_name": "Python 3",
   "language": "python",
   "name": "python3"
  },
  "language_info": {
   "codemirror_mode": {
    "name": "ipython",
    "version": 3
   },
   "file_extension": ".py",
   "mimetype": "text/x-python",
   "name": "python",
   "nbconvert_exporter": "python",
   "pygments_lexer": "ipython3",
   "version": "3.7.4"
  }
 },
 "nbformat": 4,
 "nbformat_minor": 2
}
